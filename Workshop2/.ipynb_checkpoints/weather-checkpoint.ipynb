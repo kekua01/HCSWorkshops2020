{
 "cells": [
  {
   "cell_type": "code",
   "execution_count": 1,
   "metadata": {},
   "outputs": [],
   "source": [
    "# HCS Workshop 2, Web Scraping"
   ]
  },
  {
   "cell_type": "code",
   "execution_count": 2,
   "metadata": {},
   "outputs": [],
   "source": [
    "# Author: Will Cooper"
   ]
  },
  {
   "cell_type": "code",
   "execution_count": 1,
   "metadata": {},
   "outputs": [],
   "source": [
    "import requests\n",
    "import pandas as pd\n",
    "from bs4 import BeautifulSoup\n",
    "\n",
    "page = requests.get(\"https://forecast.weather.gov/MapClick.php?lat=37.7772&lon=-122.4168#.X5XHt3hKhQI\")\n",
    "soup = BeautifulSoup(page.content, 'html.parser')\n",
    "\n",
    "seven_day = soup.find(id=\"seven-day-forecast\")\n",
    "forecast_items = seven_day.find_all(class_=\"tombstone-container\")"
   ]
  },
  {
   "cell_type": "code",
   "execution_count": 2,
   "metadata": {},
   "outputs": [
    {
     "name": "stdout",
     "output_type": "stream",
     "text": [
      "           period     short_desc         temp  \\\n",
      "0   ThisAfternoon   Mostly Sunny  High: 70 °F   \n",
      "1         Tonight   Mostly Clear   Low: 54 °F   \n",
      "2          Monday          Sunny  High: 74 °F   \n",
      "3     MondayNight   Mostly Clear   Low: 55 °F   \n",
      "4         Tuesday          Sunny  High: 73 °F   \n",
      "5    TuesdayNight   Mostly Clear   Low: 51 °F   \n",
      "6       Wednesday          Sunny  High: 71 °F   \n",
      "7  WednesdayNight  Partly Cloudy   Low: 51 °F   \n",
      "8        Thursday   Mostly Sunny  High: 70 °F   \n",
      "\n",
      "                                                desc  \n",
      "0  This Afternoon: Mostly sunny, with a high near...  \n",
      "1  Tonight: Mostly clear, with a low around 54. N...  \n",
      "2  Monday: Sunny, with a high near 74. North nort...  \n",
      "3  Monday Night: Mostly clear, with a low around ...  \n",
      "4  Tuesday: Sunny, with a high near 73. Calm wind...  \n",
      "5  Tuesday Night: Mostly clear, with a low around...  \n",
      "6             Wednesday: Sunny, with a high near 71.  \n",
      "7  Wednesday Night: Partly cloudy, with a low aro...  \n",
      "8       Thursday: Mostly sunny, with a high near 70.  \n"
     ]
    }
   ],
   "source": [
    "period_tags = seven_day.select(\".tombstone-container .period-name\")\n",
    "periods = [pt.get_text() for pt in period_tags]\n",
    "short_descs = [sd.get_text() for sd in seven_day.select(\".tombstone-container .short-desc\")]\n",
    "temps = [t.get_text() for t in seven_day.select(\".tombstone-container .temp\")]\n",
    "descs = [d[\"title\"] for d in seven_day.select(\".tombstone-container img\")]\n",
    "\n",
    "\n",
    "weather = pd.DataFrame({\n",
    "    \"period\": periods,\n",
    "    \"short_desc\": short_descs,\n",
    "    \"temp\": temps,\n",
    "    \"desc\":descs\n",
    "})\n",
    "\n",
    "print(weather)"
   ]
  },
  {
   "cell_type": "code",
   "execution_count": 12,
   "metadata": {},
   "outputs": [
    {
     "name": "stdout",
     "output_type": "stream",
     "text": [
      "0    70\n",
      "1    54\n",
      "2    74\n",
      "3    55\n",
      "4    73\n",
      "5    51\n",
      "6    71\n",
      "7    51\n",
      "8    70\n",
      "Name: temp_num, dtype: object\n"
     ]
    }
   ],
   "source": [
    "\n",
    "temp_nums = weather[\"temp\"].str.extract(r'(?P<temp_num>\\d+)', expand=False)\n",
    "weather[\"temp_num\"] = temp_nums.astype('int')\n",
    "\n",
    "print(temp_nums)"
   ]
  },
  {
   "cell_type": "code",
   "execution_count": 13,
   "metadata": {},
   "outputs": [
    {
     "name": "stdout",
     "output_type": "stream",
     "text": [
      "63.22222222222222\n"
     ]
    }
   ],
   "source": [
    "print(weather['temp_num'].mean())"
   ]
  },
  {
   "cell_type": "code",
   "execution_count": null,
   "metadata": {},
   "outputs": [],
   "source": []
  },
  {
   "cell_type": "code",
   "execution_count": 8,
   "metadata": {},
   "outputs": [],
   "source": []
  },
  {
   "cell_type": "code",
   "execution_count": null,
   "metadata": {},
   "outputs": [],
   "source": []
  },
  {
   "cell_type": "code",
   "execution_count": null,
   "metadata": {},
   "outputs": [],
   "source": []
  },
  {
   "cell_type": "code",
   "execution_count": 9,
   "metadata": {},
   "outputs": [],
   "source": []
  },
  {
   "cell_type": "code",
   "execution_count": 10,
   "metadata": {},
   "outputs": [],
   "source": []
  },
  {
   "cell_type": "code",
   "execution_count": null,
   "metadata": {},
   "outputs": [],
   "source": []
  }
 ],
 "metadata": {
  "kernelspec": {
   "display_name": "Python 3",
   "language": "python",
   "name": "python3"
  },
  "language_info": {
   "codemirror_mode": {
    "name": "ipython",
    "version": 3
   },
   "file_extension": ".py",
   "mimetype": "text/x-python",
   "name": "python",
   "nbconvert_exporter": "python",
   "pygments_lexer": "ipython3",
   "version": "3.8.3"
  }
 },
 "nbformat": 4,
 "nbformat_minor": 2
}
